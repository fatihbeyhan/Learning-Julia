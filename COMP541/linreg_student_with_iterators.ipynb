{
  "nbformat": 4,
  "nbformat_minor": 0,
  "metadata": {
    "language_info": {
      "file_extension": ".jl",
      "mimetype": "application/julia",
      "name": "julia",
      "version": "1.3.1"
    },
    "kernelspec": {
      "name": "julia-1.3",
      "display_name": "Julia 1.3.1",
      "language": "julia"
    },
    "colab": {
      "name": "linreg-student-with-iterators.ipynb",
      "provenance": []
    }
  },
  "cells": [
    {
      "cell_type": "markdown",
      "metadata": {
        "id": "G9obCL3CMidU",
        "colab_type": "text"
      },
      "source": [
        "# Linear Regression on Housing Data\n",
        "In the first lab assignment, you played with Boston Housing Dataset. In this lab assignment, you are going to implement a linear regression model trained on Boston Housing Data by using Knet for the first time. We will take advantage of iterators, callable objects and automatic differentation mechanism."
      ]
    },
    {
      "cell_type": "code",
      "metadata": {
        "id": "zBMjiQOOMidh",
        "colab_type": "code",
        "colab": {}
      },
      "source": [
        "# Do not touch this cell\n",
        "# Necessary imports\n",
        "using Pkg; for p in (\"Knet\",\"AutoGrad\",\"Plots\",\"Images\",\"ImageMagick\"); haskey(Pkg.installed(),p) || Pkg.add(p); end\n",
        "using Knet\n",
        "using Statistics\n",
        "using Random\n",
        "using Test\n",
        "import Base: length, size, iterate, eltype, IteratorSize, IteratorEltype, haslength, @propagate_inbounds, repeat, rand, tail\n",
        "import .Iterators: cycle, Cycle, take\n",
        "using Plots; default(fmt=:png,ls=:auto)"
      ],
      "execution_count": 0,
      "outputs": []
    },
    {
      "cell_type": "markdown",
      "metadata": {
        "id": "0MqkLPBwMieC",
        "colab_type": "text"
      },
      "source": [
        "## Data Reading\n",
        "You do not need to worry about data reading and preprocessing: We are going to take advantage of housing data reader which is also a part of Knet. We include some source file and then use ```housing``` function. ```housing``` function takes one input argument: the percentage of the test set to split dataset into two parts. Just take a look at the cell below. In this lab session, we are going to use 20% of the data as test split."
      ]
    },
    {
      "cell_type": "code",
      "metadata": {
        "id": "PDz5IdBUMieE",
        "colab_type": "code",
        "colab": {}
      },
      "source": [
        "# Do not touch this cell\n",
        "# Load data\n",
        "include(joinpath(Knet.dir(), \"data\", \"housing.jl\"))\n",
        "Knet.seed!(1)\n",
        "xtrn, ytrn, xtst, ytst = housing(0.20; url=\"https://raw.githubusercontent.com/ilkerkesen/ufldl-tutorial/master/ex1/housing.data\")"
      ],
      "execution_count": 0,
      "outputs": []
    },
    {
      "cell_type": "code",
      "metadata": {
        "id": "s9_lzDuAMieW",
        "colab_type": "code",
        "colab": {}
      },
      "source": [
        "# Print size of data matrices for testing\n",
        "size(xtrn), size(ytrn), size(xtst), size(ytst)"
      ],
      "execution_count": 0,
      "outputs": []
    },
    {
      "cell_type": "markdown",
      "metadata": {
        "id": "O6cNtXYwMiev",
        "colab_type": "text"
      },
      "source": [
        "## Minibatching via Iterators\n",
        "In this part, you are going implement a minibatching procedure (or let's call it pipeline). Remember, you need to implement your own ```minibatch``` function, it's forbidden to use Knet's ```minibatch``` procedure. Also, your minibatching scheme must use iterators. Just take a look at [this blog post](https://julialang.org/blog/2018/07/iterators-in-julia-0.7). To implement your minibatching pipeline, we provide you ```HousingData``` struct definition. Different from the original implementation, you are not going to discard the last remaining smaller minibatch, you will use all the instances. Also, remember that, ```HousingData``` structure is not mutable which means you are not able to change the values inside struct."
      ]
    },
    {
      "cell_type": "code",
      "metadata": {
        "id": "zW4hNOo1Mie8",
        "colab_type": "code",
        "colab": {}
      },
      "source": [
        "# Do not touch this cell\n",
        "# HousingDataMinibatch struct definition\n",
        "# As default, this struct definition also creates the following constructor,\n",
        "#   HousingDataMinibatch(x, y, batchsize, shuffle, ninstances)\n",
        "# where x is input data, y is output data, batchsize is number of samples in\n",
        "# a minibatch, shuffle is a boolean property which indicates shuffling\n",
        "# instances or not, ninstances is number of instances in the whole data split.\n",
        "# This constructor returns a HousingDataMinibatch object.\n",
        "struct HousingDataMinibatch\n",
        "    x\n",
        "    y\n",
        "    batchsize\n",
        "    shuffle # shuffle data in each epoch or not\n",
        "    ninstances # number of instances\n",
        "end"
      ],
      "execution_count": 0,
      "outputs": []
    },
    {
      "cell_type": "code",
      "metadata": {
        "id": "pnUkzpeFMifY",
        "colab_type": "code",
        "colab": {}
      },
      "source": [
        "# HousingDataMinibatch(x, y; batchsize=100, dtype=Array{Float64}, shuffle=false)\n",
        "#\n",
        "# Creates a HousingDataMinibatch object. It takes two positional arguments, x\n",
        "# and y, input and output data for the data split. It also take three optional\n",
        "# keyword arguments: batchsize (number of instances in a minibatch), dtype\n",
        "# (data type for minibatch arrays) and shuffle (if true, shuffle instances).\n",
        "function HousingDataMinibatch(x, y; batchsize=100, dtype=Array{Float64}, shuffle=false)\n",
        "    ninstances = size(x)[end]\n",
        "    data = HousingDataMinibatch(convert(dtype, x), convert(dtype, y), batchsize, shuffle, ninstances)\n",
        "    return data\n",
        "end"
      ],
      "execution_count": 0,
      "outputs": []
    },
    {
      "cell_type": "markdown",
      "metadata": {
        "id": "gOuuXihAMihK",
        "colab_type": "text"
      },
      "source": [
        "## Tests for ```HousingDataMinibatch(x, y; ...)```"
      ]
    },
    {
      "cell_type": "code",
      "metadata": {
        "id": "BlDEL6iLMihO",
        "colab_type": "code",
        "colab": {}
      },
      "source": [
        "x1 = randn(5, 100); y1 = rand(1, 100)\n",
        "obj1 = HousingDataMinibatch(\n",
        "    x1, y1; batchsize=20, dtype=Array{Float32}, shuffle=true)\n",
        "@test obj1.shuffle == true\n",
        "@test typeof(obj1.x) <: Array{Float32}\n",
        "@test typeof(obj1.y) <: Array{Float32}\n",
        "@test obj1.batchsize == 20\n",
        "@test obj1.ninstances == 100\n",
        "@test abs2(sum(obj1.x - x1)) < 1e-6\n",
        "@test abs2(sum(obj1.y - y1)) < 1e-6\n",
        "@info \"constructor tests passed\""
      ],
      "execution_count": 0,
      "outputs": []
    },
    {
      "cell_type": "code",
      "metadata": {
        "id": "nR1I2nxgMijf",
        "colab_type": "code",
        "colab": {}
      },
      "source": [
        "# length(d)\n",
        "# Returns how many batches the dataset (d) has.\n",
        "# Hint: You can use divrem function. Type ?divrem to see how to use.\n",
        "function length(d::HousingDataMinibatch)\n",
        "    d, r = divrem(d.ninstances, d.batchsize)\n",
        "    return r == 0 ? d : d+1\n",
        "end"
      ],
      "execution_count": 0,
      "outputs": []
    },
    {
      "cell_type": "markdown",
      "metadata": {
        "id": "ZSrpXRZEMikd",
        "colab_type": "text"
      },
      "source": [
        "## Tests for ```length(d::HousingDataMinibatch)```"
      ]
    },
    {
      "cell_type": "code",
      "metadata": {
        "id": "99JrAPI4Mikj",
        "colab_type": "code",
        "colab": {}
      },
      "source": [
        "x1 = randn(5, 100); y1 = rand(1, 100)\n",
        "test_helper1(batchsize) = HousingDataMinibatch(x1,y1; batchsize=batchsize)\n",
        "objects = [test_helper1(batchsize) for batchsize in (20, 30, 50, 100, 101)]\n",
        "@test map(length, objects) == [5, 4, 2, 1, 1]\n",
        "@info \"length tests passed\""
      ],
      "execution_count": 0,
      "outputs": []
    },
    {
      "cell_type": "code",
      "metadata": {
        "id": "kmbFjI23MilD",
        "colab_type": "code",
        "colab": {}
      },
      "source": [
        "# iterate(d, state)\n",
        "# Takes a HousingDataMinibatch object as d and list of integers as state.\n",
        "# Returns one minibatch.\n",
        "# This is how you implement your own iterator!\n",
        "function iterate(d::HousingDataMinibatch, state=ifelse(\n",
        "    d.shuffle, randperm(d.ninstances), collect(1:d.ninstances)))\n",
        "    n = length(state)\n",
        "    n == 0 && return nothing\n",
        "    batchsize = min(d.batchsize, n)\n",
        "    indices, new_state = state[1:batchsize], state[batchsize+1:end]\n",
        "    x, y = d.x[:, indices], d.y[:, indices]\n",
        "    return ((x,y), new_state)\n",
        "end"
      ],
      "execution_count": 0,
      "outputs": []
    },
    {
      "cell_type": "code",
      "metadata": {
        "id": "KZyKUQjcMimZ",
        "colab_type": "code",
        "colab": {}
      },
      "source": [
        "dtrn = HousingDataMinibatch(xtrn, ytrn; shuffle=true)\n",
        "dtst = HousingDataMinibatch(xtst, ytst)"
      ],
      "execution_count": 0,
      "outputs": []
    },
    {
      "cell_type": "markdown",
      "metadata": {
        "id": "c2bK0y77Mim3",
        "colab_type": "text"
      },
      "source": [
        "## Tests for ```iterate``` function"
      ]
    },
    {
      "cell_type": "code",
      "metadata": {
        "id": "HUm_5q29Mim7",
        "colab_type": "code",
        "colab": {}
      },
      "source": [
        "x1 = randn(5, 100); y1 = rand(1, 100)\n",
        "test_helper2(batchsize) = HousingDataMinibatch(x1,y1; batchsize=batchsize)\n",
        "test_helper3(batches) = mapreduce(bi->size(bi[2],2), +, batches)\n",
        "objects = [test_helper1(batchsize) for batchsize in (20, 30, 50, 100, 101)]\n",
        "data_arrays = map(collect, objects)\n",
        "num_instances = map(test_helper3, data_arrays)\n",
        "@test map(length, data_arrays) == map(length, objects)\n",
        "@test prod(num_instances .== 100) == 1\n",
        "@info \"iterate tests passed\""
      ],
      "execution_count": 0,
      "outputs": []
    },
    {
      "cell_type": "markdown",
      "metadata": {
        "id": "TLi1wQQxMinj",
        "colab_type": "text"
      },
      "source": [
        "## Model Implementation via Callable Objects\n",
        "Next, we are going to implement our model via callable objects. In Julia, we can call objects. Just give a glimpse at the following code snippet:"
      ]
    },
    {
      "cell_type": "code",
      "metadata": {
        "id": "NPp1DRZMMinq",
        "colab_type": "code",
        "colab": {}
      },
      "source": [
        "struct Hello\n",
        "    planet\n",
        "    Hello(planet=\"World\") = new(planet)\n",
        "end\n",
        "\n",
        "(obj::Hello)() = println(\"Hello, $(obj.planet)!\")\n",
        "\n",
        "hello_world = Hello()\n",
        "hello_world()\n",
        "\n",
        "hello_jupiter = Hello(\"Jupiter\")\n",
        "hello_jupiter()"
      ],
      "execution_count": 0,
      "outputs": []
    },
    {
      "cell_type": "markdown",
      "metadata": {
        "id": "hrW5QeHrMioD",
        "colab_type": "text"
      },
      "source": [
        "For this assingment, you just need to define a linear layer and that's all! Write your solutions to the below cell. Hint: You need to use ```Param``` method of AutoGrad. Just type ```@doc Param``` to see the documentation."
      ]
    },
    {
      "cell_type": "code",
      "metadata": {
        "id": "rFmea0hJMioI",
        "colab_type": "code",
        "colab": {}
      },
      "source": [
        "struct Linear\n",
        "    # Your code here\n",
        "end\n",
        "\n",
        "function (l::Linear)(x)\n",
        "    # Your code here\n",
        "end\n",
        "\n",
        "function Linear(xsize::Int, ysize::Int, atype=Array{Float64}, scale=0.1)\n",
        "    # Your code here\n",
        "end\n",
        "\n",
        "model = Linear(13, 1)"
      ],
      "execution_count": 0,
      "outputs": []
    },
    {
      "cell_type": "markdown",
      "metadata": {
        "id": "t7_1hEQsMioZ",
        "colab_type": "text"
      },
      "source": [
        "## Tests for ```Linear```"
      ]
    },
    {
      "cell_type": "code",
      "metadata": {
        "id": "QKxGTa1cMiod",
        "colab_type": "code",
        "colab": {}
      },
      "source": [
        "test_model = Linear(5,3)\n",
        "test_data = rand(5,10)\n",
        "@test fieldnames(Linear) == (:w, :b)\n",
        "@test typeof(test_model.w) <: Param\n",
        "@test typeof(test_model.b) <: Param\n",
        "@test size(test_model.w) == (3,5)\n",
        "@test size(test_model.b) == (3,1)\n",
        "@test sum(test_model.b.value) ≈ 0.0\n",
        "@test size(test_model(test_data)) == (3,10)\n",
        "@info \"Linear tests passed\""
      ],
      "execution_count": 0,
      "outputs": []
    },
    {
      "cell_type": "markdown",
      "metadata": {
        "id": "p6n8u6oaMipC",
        "colab_type": "text"
      },
      "source": [
        "## Define Loss Function\n",
        "In this part, we'll define our loss function. We are going to use minimum squared error loss function,"
      ]
    },
    {
      "cell_type": "markdown",
      "metadata": {
        "id": "kMh5vntIMipH",
        "colab_type": "text"
      },
      "source": [
        "![MSE](http://web.itu.edu.tr/keseni/mse.png)"
      ]
    },
    {
      "cell_type": "markdown",
      "metadata": {
        "id": "cj4_DXsIMipL",
        "colab_type": "text"
      },
      "source": [
        "We're going to define three diffent functions for this purpose,"
      ]
    },
    {
      "cell_type": "markdown",
      "metadata": {
        "id": "AKHMYAUTMipO",
        "colab_type": "text"
      },
      "source": [
        "1. A function takes predictions and gold values as input.\n",
        "2. A callable object procedure that takes input/output pair as input\n",
        "3. A callable object procedure that takes our dataset object as input"
      ]
    },
    {
      "cell_type": "markdown",
      "metadata": {
        "id": "3wi2pV2AMipT",
        "colab_type": "text"
      },
      "source": [
        "See function prototypes below and the documentation of ```train!``` function."
      ]
    },
    {
      "cell_type": "markdown",
      "metadata": {
        "id": "WvTEA7AoMipZ",
        "colab_type": "text"
      },
      "source": [
        "1 - takes predictions and gold values as input."
      ]
    },
    {
      "cell_type": "code",
      "metadata": {
        "id": "sxxhfeB-Mipd",
        "colab_type": "code",
        "colab": {}
      },
      "source": [
        "function mse(ypred, ygold)\n",
        "    # Your code here\n",
        "end"
      ],
      "execution_count": 0,
      "outputs": []
    },
    {
      "cell_type": "markdown",
      "metadata": {
        "id": "OEwZzzofMip1",
        "colab_type": "text"
      },
      "source": [
        "2 - callable object procedure that takes input/output pair as input"
      ]
    },
    {
      "cell_type": "code",
      "metadata": {
        "id": "NK94Q8IfMip7",
        "colab_type": "code",
        "colab": {}
      },
      "source": [
        "function (m::Linear)(x, y)\n",
        "    # Your code here\n",
        "end"
      ],
      "execution_count": 0,
      "outputs": []
    },
    {
      "cell_type": "markdown",
      "metadata": {
        "id": "pxPYIdLsMiqj",
        "colab_type": "text"
      },
      "source": [
        "3 - callable object procedure that takes our dataset object as input"
      ]
    },
    {
      "cell_type": "code",
      "metadata": {
        "id": "GgFbjKHaMiql",
        "colab_type": "code",
        "colab": {}
      },
      "source": [
        "function (m::Linear)(data::HousingDataMinibatch)\n",
        "    # Your code here\n",
        "end"
      ],
      "execution_count": 0,
      "outputs": []
    },
    {
      "cell_type": "markdown",
      "metadata": {
        "id": "0S6cEtczMirA",
        "colab_type": "text"
      },
      "source": [
        "## Tests for ```mse```"
      ]
    },
    {
      "cell_type": "code",
      "metadata": {
        "id": "ByGs3yRcMirC",
        "colab_type": "code",
        "colab": {}
      },
      "source": [
        "x1 = randn(5, 100); y1 = rand(1, 100); batchsize = 20\n",
        "test_data = HousingDataMinibatch(x1,y1; batchsize=batchsize, shuffle=false)\n",
        "test_model = Linear(5, 1)\n",
        "batch = take(test_data,1)\n",
        "w1, b1 = test_model.w.value, test_model.b.value\n",
        "y2 = w1 * x1 .+ b1\n",
        "@test mse(y2,y1) ≈ 0.5mean(abs2.(y1 - y2))\n",
        "@test test_model(test_data) ≈ mse(y2,y1)\n",
        "@info \"mse tests passed\""
      ],
      "execution_count": 0,
      "outputs": []
    },
    {
      "cell_type": "markdown",
      "metadata": {
        "id": "G6jivM3XMirc",
        "colab_type": "text"
      },
      "source": [
        "## Training with Modular Interface and Iterators\n",
        "Now, let's implement a ```mytrain!``` procedure to train our network! It takes model, train data, test data, report period (in iterations) and number of maximum iterations. It trains our model until a certain maximum iterations number, records loss values of train and test data splits after each report period. It should output three lists: iterations numbers, loss values of train set, loss values of test set."
      ]
    },
    {
      "cell_type": "markdown",
      "metadata": {
        "id": "KzJE0U0nMire",
        "colab_type": "text"
      },
      "source": [
        "Hint: You will need ```sgd!```, ```cycle``` and ```take``` procedures."
      ]
    },
    {
      "cell_type": "code",
      "metadata": {
        "id": "FbyBJ5QHMirh",
        "colab_type": "code",
        "colab": {}
      },
      "source": [
        "function mytrain!(m::Linear, dtrn, dtst, valid=10, max_iters=500)\n",
        "    # Your code here\n",
        "    return 0:valid:max_iters, trnloss, tstloss\n",
        "end"
      ],
      "execution_count": 0,
      "outputs": []
    },
    {
      "cell_type": "markdown",
      "metadata": {
        "id": "P0jsyZXwMirv",
        "colab_type": "text"
      },
      "source": [
        "Finally, let's train our network and plot the results,"
      ]
    },
    {
      "cell_type": "code",
      "metadata": {
        "id": "o7cqrXTcMirz",
        "colab_type": "code",
        "colab": {}
      },
      "source": [
        "Knet.seed!(42)\n",
        "model = Linear(13, 1)\n",
        "dtrn = HousingDataMinibatch(xtrn, ytrn; shuffle=true)\n",
        "dtst = HousingDataMinibatch(xtst, ytst)\n",
        "iters, trnloss, tstloss = mytrain!(model, dtrn, dtst)\n",
        "plot(iters, [trnloss, tstloss], labels=[:trn, :tst], xlabel=\"iterations\", ylabel=\"loss\")"
      ],
      "execution_count": 0,
      "outputs": []
    },
    {
      "cell_type": "markdown",
      "metadata": {
        "id": "DrikRPHHMisR",
        "colab_type": "text"
      },
      "source": [
        "---\n",
        "\n",
        "*This notebook was generated using [Literate.jl](https://github.com/fredrikekre/Literate.jl).*"
      ]
    }
  ]
}